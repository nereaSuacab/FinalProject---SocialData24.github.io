{
 "cells": [
  {
   "cell_type": "code",
   "execution_count": null,
   "metadata": {},
   "outputs": [],
   "source": []
  },
  {
   "cell_type": "markdown",
   "metadata": {},
   "source": [
    "# Motivation\n",
    "\n",
    "The dataset employed in this project is the 'Air Traffic Passenger Statistics' of the San Francisco Airport. The dataset holds information about the Monthly Passenger Traffic Statistics. In order words it records all flights departing, arriving, or stopping over in San Francisco over a span of 23 years. Each flight is logged once per month, and the passenger count is calculated by aggregating all passengers on that flight during the respective month.\n",
    "We opted for this specific dataset due to its expansive scope, encompassing 15 attributes and spanning 23 years, which offers ample opportunities for diverse studies related to San Francisco Airport and its air traffic. Moverover we personally think that the topic could be wordwide interesting given that airports serve as critical infrastructure facilitating thousands of flights daily, orchestrated through meticulous scheduling.\n",
    "\n",
    "### What was your goal for the end user's experience?"
   ]
  },
  {
   "cell_type": "markdown",
   "metadata": {},
   "source": [
    "# Basic stats\n",
    "\n",
    "The dataset itself contains data from july 1999 to january 2024. Since Airport data is seasonal in nature, any comparative analyses should be done on a period-over-period basis (i.e. January 2010 vs. January 2009) as opposed to period-to-period (i.e. January 2010 vs. February 2010). In light of these, the dataset was adjusted to include only complete years."
   ]
  }
 ],
 "metadata": {
  "language_info": {
   "name": "python"
  }
 },
 "nbformat": 4,
 "nbformat_minor": 2
}
