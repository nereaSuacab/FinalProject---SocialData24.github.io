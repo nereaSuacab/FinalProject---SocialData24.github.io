{
 "cells": [
  {
   "cell_type": "code",
   "execution_count": null,
   "metadata": {},
   "outputs": [],
   "source": []
  },
  {
   "cell_type": "markdown",
   "metadata": {},
   "source": [
    "# Motivation\n",
    "\n",
    "The dataset employed in this project is the 'Air Traffic Passenger Statistics' of the San Francisco Airport. The dataset holds information about the Monthly Passenger Traffic Statistics. In order words it records all flights departing, arriving, or stopping over in San Francisco over a span of 23 years. Each flight is logged once per month, and the passenger count is calculated by aggregating all passengers on that flight during the respective month.\n",
    "We opted for this specific dataset due to its expansive scope, encompassing 15 attributes and spanning 23 years, which offers ample opportunities for diverse studies related to San Francisco Airport and its air traffic. Moverover we personally think that the topic could be wordwide interesting given that airports serve as critical infrastructure facilitating thousands of flights daily, orchestrated through meticulous scheduling.\n",
    "\n",
    "### What was your goal for the end user's experience?"
   ]
  },
  {
   "cell_type": "markdown",
   "metadata": {},
   "source": [
    "# Basic stats\n",
    "\n",
    "The dataset itself contains data from july 1999 to january 2024. Since Airport data is seasonal in nature, any comparative analyses should be done on a period-over-period basis (i.e. January 2010 vs. January 2009) as opposed to period-to-period (i.e. January 2010 vs. February 2010). In light of these, the dataset was adjusted to include only complete years."
   ]
  },
  {
   "cell_type": "code",
   "execution_count": null,
   "metadata": {},
   "outputs": [],
   "source": [
    "df = pd.read_csv('C:/Users/Paula/Documents/DTU/Spring_2024/Social_data/project/FinalProject---SocialData24.github.io/Air_Traffic_Passenger_Statistics_20240408.csv')"
   ]
  },
  {
   "cell_type": "code",
   "execution_count": null,
   "metadata": {},
   "outputs": [],
   "source": [
    "# Delete duplicates\n",
    "df = df.drop_duplicates()\n",
    "\n",
    "# Find rows with one or more empty columns\n",
    "empty_rows = df[df.isnull().any(axis=1)]\n",
    "\n",
    "# Find columns with empty values\n",
    "empty_columns = []\n",
    "for index, row in empty_rows.iterrows():\n",
    "    empty_columns.extend([col for col in df.columns if pd.isnull(row[col])])\n",
    "\n",
    "unique_empty_columns = list(set(empty_columns))\n",
    "print(unique_empty_columns)"
   ]
  },
  {
   "cell_type": "markdown",
   "metadata": {},
   "source": [
    "Since the only columns that have empty values are these two, we decided to remove them because the information in them is the same as the one in \"Operating Airline\" and \"Published Airline\" columns."
   ]
  },
  {
   "cell_type": "code",
   "execution_count": null,
   "metadata": {},
   "outputs": [],
   "source": [
    "df.drop(columns=['Published Airline IATA Code', 'Operating Airline IATA Code'], inplace=True)\n",
    "\n",
    "# Convert columns to datetime format\n",
    "df['Activity Period Start Date'] = pd.to_datetime(df['Activity Period Start Date'])\n",
    "df.drop(columns=['Activity Period'], inplace=True)\n",
    "\n",
    "# Clean unnecessary columns\n",
    "df.drop(columns=['data_as_of', 'data_loaded_at'], inplace=True)"
   ]
  },
  {
   "cell_type": "code",
   "execution_count": null,
   "metadata": {},
   "outputs": [],
   "source": [
    "# Delete the first and last year of the dataset since they are not complete\n",
    "df = df[(df['Activity Period Start Date'].dt.year != 1999) & (df['Activity Period Start Date'].dt.year != 2024)]"
   ]
  },
  {
   "cell_type": "code",
   "execution_count": null,
   "metadata": {},
   "outputs": [],
   "source": [
    "df.head()\n",
    "df.describe()"
   ]
  },
  {
   "cell_type": "markdown",
   "metadata": {},
   "source": [
    "Total amount of passengers without taking into account what Activity Type are they"
   ]
  },
  {
   "cell_type": "code",
   "execution_count": null,
   "metadata": {},
   "outputs": [],
   "source": [
    "import matplotlib.pyplot as plt\n",
    "\n",
    "# Group by year and sum 'Passenger Count'\n",
    "yearly_passenger_count = df.groupby(df['Activity Period Start Date'].dt.year)['Passenger Count'].sum().reset_index()\n",
    "\n",
    "# Plot the summed 'Passenger Count' for each year\n",
    "plt.figure(figsize=(10, 6))\n",
    "plt.plot(yearly_passenger_count['Activity Period Start Date'], yearly_passenger_count['Passenger Count'], marker='o')\n",
    "plt.title('Total Passenger Count Over Time')\n",
    "plt.xlabel('Year')\n",
    "plt.ylabel('Total Passenger Count')\n",
    "plt.xticks(rotation=45)  # Rotate x-axis labels for better readability\n",
    "plt.tight_layout()\n",
    "plt.show()"
   ]
  }
 ],
 "metadata": {
  "language_info": {
   "name": "python"
  }
 },
 "nbformat": 4,
 "nbformat_minor": 2
}
